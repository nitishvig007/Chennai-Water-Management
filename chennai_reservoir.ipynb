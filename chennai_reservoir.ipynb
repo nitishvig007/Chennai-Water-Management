{
 "cells": [
  {
   "cell_type": "markdown",
   "metadata": {},
   "source": [
    "# chennai_reservoir"
   ]
  },
  {
   "cell_type": "code",
   "execution_count": 1,
   "metadata": {},
   "outputs": [],
   "source": [
    "import numpy as np\n",
    "import pandas as pd\n",
    "import matplotlib.pyplot as plt\n",
    "%matplotlib inline\n",
    "import seaborn as sns\n",
    "import io"
   ]
  },
  {
   "cell_type": "code",
   "execution_count": 2,
   "metadata": {},
   "outputs": [],
   "source": [
    "df1 = pd.read_csv('chennai_reservoir_levels.csv')\n",
    "df2 = pd.read_csv('chennai_reservoir_rainfall.csv')"
   ]
  },
  {
   "cell_type": "code",
   "execution_count": 3,
   "metadata": {},
   "outputs": [],
   "source": [
    "df1.rename(columns= {\"Date\" : \"Date_Noticed\"}, inplace= True)\n",
    "df2.rename(columns= {\"Date\" : \"Date_Noticed\"}, inplace= True)"
   ]
  },
  {
   "cell_type": "code",
   "execution_count": 4,
   "metadata": {},
   "outputs": [
    {
     "data": {
      "text/html": [
       "<div>\n",
       "<style scoped>\n",
       "    .dataframe tbody tr th:only-of-type {\n",
       "        vertical-align: middle;\n",
       "    }\n",
       "\n",
       "    .dataframe tbody tr th {\n",
       "        vertical-align: top;\n",
       "    }\n",
       "\n",
       "    .dataframe thead th {\n",
       "        text-align: right;\n",
       "    }\n",
       "</style>\n",
       "<table border=\"1\" class=\"dataframe\">\n",
       "  <thead>\n",
       "    <tr style=\"text-align: right;\">\n",
       "      <th></th>\n",
       "      <th>Date_Noticed</th>\n",
       "      <th>POONDI</th>\n",
       "      <th>CHOLAVARAM</th>\n",
       "      <th>REDHILLS</th>\n",
       "      <th>CHEMBARAMBAKKAM</th>\n",
       "    </tr>\n",
       "  </thead>\n",
       "  <tbody>\n",
       "    <tr>\n",
       "      <th>0</th>\n",
       "      <td>01-01-2004</td>\n",
       "      <td>3.9</td>\n",
       "      <td>0.0</td>\n",
       "      <td>268.0</td>\n",
       "      <td>0.0</td>\n",
       "    </tr>\n",
       "    <tr>\n",
       "      <th>1</th>\n",
       "      <td>02-01-2004</td>\n",
       "      <td>3.9</td>\n",
       "      <td>0.0</td>\n",
       "      <td>268.0</td>\n",
       "      <td>0.0</td>\n",
       "    </tr>\n",
       "    <tr>\n",
       "      <th>2</th>\n",
       "      <td>03-01-2004</td>\n",
       "      <td>3.9</td>\n",
       "      <td>0.0</td>\n",
       "      <td>267.0</td>\n",
       "      <td>0.0</td>\n",
       "    </tr>\n",
       "    <tr>\n",
       "      <th>3</th>\n",
       "      <td>04-01-2004</td>\n",
       "      <td>3.9</td>\n",
       "      <td>0.0</td>\n",
       "      <td>267.0</td>\n",
       "      <td>0.0</td>\n",
       "    </tr>\n",
       "    <tr>\n",
       "      <th>4</th>\n",
       "      <td>05-01-2004</td>\n",
       "      <td>3.8</td>\n",
       "      <td>0.0</td>\n",
       "      <td>267.0</td>\n",
       "      <td>0.0</td>\n",
       "    </tr>\n",
       "  </tbody>\n",
       "</table>\n",
       "</div>"
      ],
      "text/plain": [
       "  Date_Noticed  POONDI  CHOLAVARAM  REDHILLS  CHEMBARAMBAKKAM\n",
       "0   01-01-2004     3.9         0.0     268.0              0.0\n",
       "1   02-01-2004     3.9         0.0     268.0              0.0\n",
       "2   03-01-2004     3.9         0.0     267.0              0.0\n",
       "3   04-01-2004     3.9         0.0     267.0              0.0\n",
       "4   05-01-2004     3.8         0.0     267.0              0.0"
      ]
     },
     "execution_count": 4,
     "metadata": {},
     "output_type": "execute_result"
    }
   ],
   "source": [
    "level = df1.copy()\n",
    "level.head()"
   ]
  },
  {
   "cell_type": "code",
   "execution_count": 5,
   "metadata": {},
   "outputs": [
    {
     "data": {
      "text/html": [
       "<div>\n",
       "<style scoped>\n",
       "    .dataframe tbody tr th:only-of-type {\n",
       "        vertical-align: middle;\n",
       "    }\n",
       "\n",
       "    .dataframe tbody tr th {\n",
       "        vertical-align: top;\n",
       "    }\n",
       "\n",
       "    .dataframe thead th {\n",
       "        text-align: right;\n",
       "    }\n",
       "</style>\n",
       "<table border=\"1\" class=\"dataframe\">\n",
       "  <thead>\n",
       "    <tr style=\"text-align: right;\">\n",
       "      <th></th>\n",
       "      <th>Date_Noticed</th>\n",
       "      <th>POONDI</th>\n",
       "      <th>CHOLAVARAM</th>\n",
       "      <th>REDHILLS</th>\n",
       "      <th>CHEMBARAMBAKKAM</th>\n",
       "    </tr>\n",
       "  </thead>\n",
       "  <tbody>\n",
       "    <tr>\n",
       "      <th>0</th>\n",
       "      <td>01-01-2004</td>\n",
       "      <td>0.0</td>\n",
       "      <td>0.0</td>\n",
       "      <td>0.0</td>\n",
       "      <td>0.0</td>\n",
       "    </tr>\n",
       "    <tr>\n",
       "      <th>1</th>\n",
       "      <td>02-01-2004</td>\n",
       "      <td>0.0</td>\n",
       "      <td>0.0</td>\n",
       "      <td>0.0</td>\n",
       "      <td>0.0</td>\n",
       "    </tr>\n",
       "    <tr>\n",
       "      <th>2</th>\n",
       "      <td>03-01-2004</td>\n",
       "      <td>0.0</td>\n",
       "      <td>0.0</td>\n",
       "      <td>0.0</td>\n",
       "      <td>0.0</td>\n",
       "    </tr>\n",
       "    <tr>\n",
       "      <th>3</th>\n",
       "      <td>04-01-2004</td>\n",
       "      <td>0.0</td>\n",
       "      <td>0.0</td>\n",
       "      <td>0.0</td>\n",
       "      <td>0.0</td>\n",
       "    </tr>\n",
       "    <tr>\n",
       "      <th>4</th>\n",
       "      <td>05-01-2004</td>\n",
       "      <td>0.0</td>\n",
       "      <td>0.0</td>\n",
       "      <td>0.0</td>\n",
       "      <td>0.0</td>\n",
       "    </tr>\n",
       "  </tbody>\n",
       "</table>\n",
       "</div>"
      ],
      "text/plain": [
       "  Date_Noticed  POONDI  CHOLAVARAM  REDHILLS  CHEMBARAMBAKKAM\n",
       "0   01-01-2004     0.0         0.0       0.0              0.0\n",
       "1   02-01-2004     0.0         0.0       0.0              0.0\n",
       "2   03-01-2004     0.0         0.0       0.0              0.0\n",
       "3   04-01-2004     0.0         0.0       0.0              0.0\n",
       "4   05-01-2004     0.0         0.0       0.0              0.0"
      ]
     },
     "execution_count": 5,
     "metadata": {},
     "output_type": "execute_result"
    }
   ],
   "source": [
    "rainfall = df2.copy()\n",
    "rainfall.head()"
   ]
  },
  {
   "cell_type": "code",
   "execution_count": 6,
   "metadata": {},
   "outputs": [
    {
     "name": "stdout",
     "output_type": "stream",
     "text": [
      "(5647, 5)\n",
      "(5647, 5)\n"
     ]
    }
   ],
   "source": [
    "print(level.shape)\n",
    "print(rainfall.shape)"
   ]
  },
  {
   "cell_type": "markdown",
   "metadata": {},
   "source": [
    "# EDA"
   ]
  },
  {
   "cell_type": "code",
   "execution_count": 7,
   "metadata": {},
   "outputs": [
    {
     "data": {
      "text/html": [
       "<div>\n",
       "<style scoped>\n",
       "    .dataframe tbody tr th:only-of-type {\n",
       "        vertical-align: middle;\n",
       "    }\n",
       "\n",
       "    .dataframe tbody tr th {\n",
       "        vertical-align: top;\n",
       "    }\n",
       "\n",
       "    .dataframe thead th {\n",
       "        text-align: right;\n",
       "    }\n",
       "</style>\n",
       "<table border=\"1\" class=\"dataframe\">\n",
       "  <thead>\n",
       "    <tr style=\"text-align: right;\">\n",
       "      <th></th>\n",
       "      <th>Date_Noticed</th>\n",
       "      <th>POONDI_level</th>\n",
       "      <th>CHOLAVARAM_level</th>\n",
       "      <th>REDHILLS_level</th>\n",
       "      <th>CHEMBARAMBAKKAM_level</th>\n",
       "      <th>POONDI_rainfall</th>\n",
       "      <th>CHOLAVARAM_rainfall</th>\n",
       "      <th>REDHILLS_rainfall</th>\n",
       "      <th>CHEMBARAMBAKKAM_rainfall</th>\n",
       "    </tr>\n",
       "  </thead>\n",
       "  <tbody>\n",
       "    <tr>\n",
       "      <th>0</th>\n",
       "      <td>01-01-2004</td>\n",
       "      <td>3.9</td>\n",
       "      <td>0.0</td>\n",
       "      <td>268.0</td>\n",
       "      <td>0.0</td>\n",
       "      <td>0.0</td>\n",
       "      <td>0.0</td>\n",
       "      <td>0.0</td>\n",
       "      <td>0.0</td>\n",
       "    </tr>\n",
       "    <tr>\n",
       "      <th>1</th>\n",
       "      <td>02-01-2004</td>\n",
       "      <td>3.9</td>\n",
       "      <td>0.0</td>\n",
       "      <td>268.0</td>\n",
       "      <td>0.0</td>\n",
       "      <td>0.0</td>\n",
       "      <td>0.0</td>\n",
       "      <td>0.0</td>\n",
       "      <td>0.0</td>\n",
       "    </tr>\n",
       "    <tr>\n",
       "      <th>2</th>\n",
       "      <td>03-01-2004</td>\n",
       "      <td>3.9</td>\n",
       "      <td>0.0</td>\n",
       "      <td>267.0</td>\n",
       "      <td>0.0</td>\n",
       "      <td>0.0</td>\n",
       "      <td>0.0</td>\n",
       "      <td>0.0</td>\n",
       "      <td>0.0</td>\n",
       "    </tr>\n",
       "    <tr>\n",
       "      <th>3</th>\n",
       "      <td>04-01-2004</td>\n",
       "      <td>3.9</td>\n",
       "      <td>0.0</td>\n",
       "      <td>267.0</td>\n",
       "      <td>0.0</td>\n",
       "      <td>0.0</td>\n",
       "      <td>0.0</td>\n",
       "      <td>0.0</td>\n",
       "      <td>0.0</td>\n",
       "    </tr>\n",
       "    <tr>\n",
       "      <th>4</th>\n",
       "      <td>05-01-2004</td>\n",
       "      <td>3.8</td>\n",
       "      <td>0.0</td>\n",
       "      <td>267.0</td>\n",
       "      <td>0.0</td>\n",
       "      <td>0.0</td>\n",
       "      <td>0.0</td>\n",
       "      <td>0.0</td>\n",
       "      <td>0.0</td>\n",
       "    </tr>\n",
       "  </tbody>\n",
       "</table>\n",
       "</div>"
      ],
      "text/plain": [
       "  Date_Noticed  POONDI_level  CHOLAVARAM_level  REDHILLS_level  \\\n",
       "0   01-01-2004           3.9               0.0           268.0   \n",
       "1   02-01-2004           3.9               0.0           268.0   \n",
       "2   03-01-2004           3.9               0.0           267.0   \n",
       "3   04-01-2004           3.9               0.0           267.0   \n",
       "4   05-01-2004           3.8               0.0           267.0   \n",
       "\n",
       "   CHEMBARAMBAKKAM_level  POONDI_rainfall  CHOLAVARAM_rainfall  \\\n",
       "0                    0.0              0.0                  0.0   \n",
       "1                    0.0              0.0                  0.0   \n",
       "2                    0.0              0.0                  0.0   \n",
       "3                    0.0              0.0                  0.0   \n",
       "4                    0.0              0.0                  0.0   \n",
       "\n",
       "   REDHILLS_rainfall  CHEMBARAMBAKKAM_rainfall  \n",
       "0                0.0                       0.0  \n",
       "1                0.0                       0.0  \n",
       "2                0.0                       0.0  \n",
       "3                0.0                       0.0  \n",
       "4                0.0                       0.0  "
      ]
     },
     "execution_count": 7,
     "metadata": {},
     "output_type": "execute_result"
    }
   ],
   "source": [
    "df_final = pd.merge(level, rainfall, how = 'inner', on = ['Date_Noticed'], suffixes=('_level', '_rainfall'))\n",
    "df_final.head()"
   ]
  },
  {
   "cell_type": "code",
   "execution_count": 8,
   "metadata": {},
   "outputs": [
    {
     "data": {
      "text/plain": [
       "(5647, 9)"
      ]
     },
     "execution_count": 8,
     "metadata": {},
     "output_type": "execute_result"
    }
   ],
   "source": [
    "df_final.shape"
   ]
  },
  {
   "cell_type": "markdown",
   "metadata": {},
   "source": [
    "### We are adding date, month, year separate columns for further assistance"
   ]
  },
  {
   "cell_type": "code",
   "execution_count": 9,
   "metadata": {},
   "outputs": [],
   "source": [
    "df_final['Date'] = df_final['Date_Noticed'].apply(lambda x : x.split(\"-\")[0])"
   ]
  },
  {
   "cell_type": "code",
   "execution_count": 10,
   "metadata": {},
   "outputs": [],
   "source": [
    "df_final['Month'] = df_final['Date_Noticed'].apply(lambda x : x.split(\"-\")[1])"
   ]
  },
  {
   "cell_type": "code",
   "execution_count": 11,
   "metadata": {},
   "outputs": [],
   "source": [
    "df_final['Year'] = df_final['Date_Noticed'].apply(lambda x : x.split(\"-\")[2])"
   ]
  },
  {
   "cell_type": "code",
   "execution_count": 12,
   "metadata": {},
   "outputs": [],
   "source": [
    "def int_conv(cols) : \n",
    "    return(int(cols))"
   ]
  },
  {
   "cell_type": "code",
   "execution_count": 13,
   "metadata": {},
   "outputs": [],
   "source": [
    "df_final['Date'] = df_final['Date'].apply(lambda x : int_conv(x))"
   ]
  },
  {
   "cell_type": "code",
   "execution_count": 14,
   "metadata": {},
   "outputs": [],
   "source": [
    "df_final['Year'] = df_final['Year'].apply(lambda x : int_conv(x))"
   ]
  },
  {
   "cell_type": "code",
   "execution_count": 15,
   "metadata": {},
   "outputs": [],
   "source": [
    "df_final['Month'] = df_final['Month'].apply(lambda x : int_conv(x))"
   ]
  },
  {
   "cell_type": "code",
   "execution_count": 16,
   "metadata": {},
   "outputs": [
    {
     "name": "stdout",
     "output_type": "stream",
     "text": [
      "<class 'pandas.core.frame.DataFrame'>\n",
      "Int64Index: 5647 entries, 0 to 5646\n",
      "Data columns (total 12 columns):\n",
      "Date_Noticed                5647 non-null object\n",
      "POONDI_level                5647 non-null float64\n",
      "CHOLAVARAM_level            5647 non-null float64\n",
      "REDHILLS_level              5647 non-null float64\n",
      "CHEMBARAMBAKKAM_level       5647 non-null float64\n",
      "POONDI_rainfall             5647 non-null float64\n",
      "CHOLAVARAM_rainfall         5647 non-null float64\n",
      "REDHILLS_rainfall           5647 non-null float64\n",
      "CHEMBARAMBAKKAM_rainfall    5647 non-null float64\n",
      "Date                        5647 non-null int64\n",
      "Month                       5647 non-null int64\n",
      "Year                        5647 non-null int64\n",
      "dtypes: float64(8), int64(3), object(1)\n",
      "memory usage: 573.5+ KB\n"
     ]
    }
   ],
   "source": [
    "df_final.info()"
   ]
  },
  {
   "cell_type": "markdown",
   "metadata": {},
   "source": [
    "### We are creating new columns for \"Level -(minus) Rainfall\" data, to get the idea of the excess rainfall"
   ]
  },
  {
   "cell_type": "code",
   "execution_count": 17,
   "metadata": {},
   "outputs": [],
   "source": [
    "df_final['Poondi_level_remaining'] = ((df_final['POONDI_level'] - df_final['POONDI_rainfall']))"
   ]
  },
  {
   "cell_type": "code",
   "execution_count": 18,
   "metadata": {},
   "outputs": [
    {
     "data": {
      "text/plain": [
       "0    3.9\n",
       "1    3.9\n",
       "2    3.9\n",
       "3    3.9\n",
       "4    3.8\n",
       "Name: Poondi_level_remaining, dtype: float64"
      ]
     },
     "execution_count": 18,
     "metadata": {},
     "output_type": "execute_result"
    }
   ],
   "source": [
    "df_final['Poondi_level_remaining'].head()"
   ]
  },
  {
   "cell_type": "code",
   "execution_count": 19,
   "metadata": {},
   "outputs": [
    {
     "data": {
      "text/plain": [
       "count    5647.000000\n",
       "mean     1129.907717\n",
       "std      1026.001403\n",
       "min       -93.000000\n",
       "25%       212.000000\n",
       "50%       781.000000\n",
       "75%      2000.500000\n",
       "max      3231.000000\n",
       "Name: Poondi_level_remaining, dtype: float64"
      ]
     },
     "execution_count": 19,
     "metadata": {},
     "output_type": "execute_result"
    }
   ],
   "source": [
    "df_final['Poondi_level_remaining'].describe()"
   ]
  },
  {
   "cell_type": "code",
   "execution_count": 51,
   "metadata": {},
   "outputs": [
    {
     "data": {
      "text/html": [
       "<div>\n",
       "<style scoped>\n",
       "    .dataframe tbody tr th:only-of-type {\n",
       "        vertical-align: middle;\n",
       "    }\n",
       "\n",
       "    .dataframe tbody tr th {\n",
       "        vertical-align: top;\n",
       "    }\n",
       "\n",
       "    .dataframe thead th {\n",
       "        text-align: right;\n",
       "    }\n",
       "</style>\n",
       "<table border=\"1\" class=\"dataframe\">\n",
       "  <thead>\n",
       "    <tr style=\"text-align: right;\">\n",
       "      <th></th>\n",
       "      <th>Date_Noticed</th>\n",
       "      <th>POONDI_level</th>\n",
       "      <th>CHOLAVARAM_level</th>\n",
       "      <th>REDHILLS_level</th>\n",
       "      <th>CHEMBARAMBAKKAM_level</th>\n",
       "      <th>POONDI_rainfall</th>\n",
       "      <th>CHOLAVARAM_rainfall</th>\n",
       "      <th>REDHILLS_rainfall</th>\n",
       "      <th>CHEMBARAMBAKKAM_rainfall</th>\n",
       "      <th>Date</th>\n",
       "      <th>Month</th>\n",
       "      <th>Year</th>\n",
       "      <th>Poondi_level_remaining</th>\n",
       "      <th>Cholavaram_level_remaining</th>\n",
       "      <th>Redhills_level_remaining</th>\n",
       "      <th>Chembarambakkam_level_remaining</th>\n",
       "    </tr>\n",
       "  </thead>\n",
       "  <tbody>\n",
       "    <tr>\n",
       "      <th>0</th>\n",
       "      <td>01-01-2004</td>\n",
       "      <td>3.9</td>\n",
       "      <td>0.0</td>\n",
       "      <td>268.0</td>\n",
       "      <td>0.0</td>\n",
       "      <td>0.0</td>\n",
       "      <td>0.0</td>\n",
       "      <td>0.0</td>\n",
       "      <td>0.0</td>\n",
       "      <td>1</td>\n",
       "      <td>1</td>\n",
       "      <td>2004</td>\n",
       "      <td>3.9</td>\n",
       "      <td>0.0</td>\n",
       "      <td>268.0</td>\n",
       "      <td>0.0</td>\n",
       "    </tr>\n",
       "    <tr>\n",
       "      <th>1</th>\n",
       "      <td>02-01-2004</td>\n",
       "      <td>3.9</td>\n",
       "      <td>0.0</td>\n",
       "      <td>268.0</td>\n",
       "      <td>0.0</td>\n",
       "      <td>0.0</td>\n",
       "      <td>0.0</td>\n",
       "      <td>0.0</td>\n",
       "      <td>0.0</td>\n",
       "      <td>2</td>\n",
       "      <td>1</td>\n",
       "      <td>2004</td>\n",
       "      <td>3.9</td>\n",
       "      <td>0.0</td>\n",
       "      <td>268.0</td>\n",
       "      <td>0.0</td>\n",
       "    </tr>\n",
       "    <tr>\n",
       "      <th>2</th>\n",
       "      <td>03-01-2004</td>\n",
       "      <td>3.9</td>\n",
       "      <td>0.0</td>\n",
       "      <td>267.0</td>\n",
       "      <td>0.0</td>\n",
       "      <td>0.0</td>\n",
       "      <td>0.0</td>\n",
       "      <td>0.0</td>\n",
       "      <td>0.0</td>\n",
       "      <td>3</td>\n",
       "      <td>1</td>\n",
       "      <td>2004</td>\n",
       "      <td>3.9</td>\n",
       "      <td>0.0</td>\n",
       "      <td>267.0</td>\n",
       "      <td>0.0</td>\n",
       "    </tr>\n",
       "    <tr>\n",
       "      <th>3</th>\n",
       "      <td>04-01-2004</td>\n",
       "      <td>3.9</td>\n",
       "      <td>0.0</td>\n",
       "      <td>267.0</td>\n",
       "      <td>0.0</td>\n",
       "      <td>0.0</td>\n",
       "      <td>0.0</td>\n",
       "      <td>0.0</td>\n",
       "      <td>0.0</td>\n",
       "      <td>4</td>\n",
       "      <td>1</td>\n",
       "      <td>2004</td>\n",
       "      <td>3.9</td>\n",
       "      <td>0.0</td>\n",
       "      <td>267.0</td>\n",
       "      <td>0.0</td>\n",
       "    </tr>\n",
       "    <tr>\n",
       "      <th>4</th>\n",
       "      <td>05-01-2004</td>\n",
       "      <td>3.8</td>\n",
       "      <td>0.0</td>\n",
       "      <td>267.0</td>\n",
       "      <td>0.0</td>\n",
       "      <td>0.0</td>\n",
       "      <td>0.0</td>\n",
       "      <td>0.0</td>\n",
       "      <td>0.0</td>\n",
       "      <td>5</td>\n",
       "      <td>1</td>\n",
       "      <td>2004</td>\n",
       "      <td>3.8</td>\n",
       "      <td>0.0</td>\n",
       "      <td>267.0</td>\n",
       "      <td>0.0</td>\n",
       "    </tr>\n",
       "  </tbody>\n",
       "</table>\n",
       "</div>"
      ],
      "text/plain": [
       "  Date_Noticed  POONDI_level  CHOLAVARAM_level  REDHILLS_level  \\\n",
       "0   01-01-2004           3.9               0.0           268.0   \n",
       "1   02-01-2004           3.9               0.0           268.0   \n",
       "2   03-01-2004           3.9               0.0           267.0   \n",
       "3   04-01-2004           3.9               0.0           267.0   \n",
       "4   05-01-2004           3.8               0.0           267.0   \n",
       "\n",
       "   CHEMBARAMBAKKAM_level  POONDI_rainfall  CHOLAVARAM_rainfall  \\\n",
       "0                    0.0              0.0                  0.0   \n",
       "1                    0.0              0.0                  0.0   \n",
       "2                    0.0              0.0                  0.0   \n",
       "3                    0.0              0.0                  0.0   \n",
       "4                    0.0              0.0                  0.0   \n",
       "\n",
       "   REDHILLS_rainfall  CHEMBARAMBAKKAM_rainfall  Date  Month  Year  \\\n",
       "0                0.0                       0.0     1      1  2004   \n",
       "1                0.0                       0.0     2      1  2004   \n",
       "2                0.0                       0.0     3      1  2004   \n",
       "3                0.0                       0.0     4      1  2004   \n",
       "4                0.0                       0.0     5      1  2004   \n",
       "\n",
       "   Poondi_level_remaining  Cholavaram_level_remaining  \\\n",
       "0                     3.9                         0.0   \n",
       "1                     3.9                         0.0   \n",
       "2                     3.9                         0.0   \n",
       "3                     3.9                         0.0   \n",
       "4                     3.8                         0.0   \n",
       "\n",
       "   Redhills_level_remaining  Chembarambakkam_level_remaining  \n",
       "0                     268.0                              0.0  \n",
       "1                     268.0                              0.0  \n",
       "2                     267.0                              0.0  \n",
       "3                     267.0                              0.0  \n",
       "4                     267.0                              0.0  "
      ]
     },
     "execution_count": 51,
     "metadata": {},
     "output_type": "execute_result"
    }
   ],
   "source": [
    "df_final.head()"
   ]
  },
  {
   "cell_type": "code",
   "execution_count": 21,
   "metadata": {},
   "outputs": [],
   "source": [
    "df_final['Cholavaram_level_remaining'] = ((df_final['CHEMBARAMBAKKAM_level'] - df_final['CHEMBARAMBAKKAM_rainfall']))"
   ]
  },
  {
   "cell_type": "code",
   "execution_count": 22,
   "metadata": {},
   "outputs": [],
   "source": [
    "df_final['Redhills_level_remaining'] = ((df_final['REDHILLS_level'] - df_final['REDHILLS_rainfall']))"
   ]
  },
  {
   "cell_type": "code",
   "execution_count": 23,
   "metadata": {},
   "outputs": [],
   "source": [
    "df_final['Chembarambakkam_level_remaining'] = ((df_final['CHEMBARAMBAKKAM_level'] - df_final['CHEMBARAMBAKKAM_rainfall']))"
   ]
  },
  {
   "cell_type": "code",
   "execution_count": null,
   "metadata": {},
   "outputs": [],
   "source": []
  },
  {
   "cell_type": "code",
   "execution_count": 66,
   "metadata": {},
   "outputs": [
    {
     "data": {
      "text/html": [
       "<div>\n",
       "<style scoped>\n",
       "    .dataframe tbody tr th:only-of-type {\n",
       "        vertical-align: middle;\n",
       "    }\n",
       "\n",
       "    .dataframe tbody tr th {\n",
       "        vertical-align: top;\n",
       "    }\n",
       "\n",
       "    .dataframe thead tr th {\n",
       "        text-align: left;\n",
       "    }\n",
       "\n",
       "    .dataframe thead tr:last-of-type th {\n",
       "        text-align: right;\n",
       "    }\n",
       "</style>\n",
       "<table border=\"1\" class=\"dataframe\">\n",
       "  <thead>\n",
       "    <tr>\n",
       "      <th></th>\n",
       "      <th colspan=\"4\" halign=\"left\">sum</th>\n",
       "      <th colspan=\"4\" halign=\"left\">mean</th>\n",
       "    </tr>\n",
       "    <tr>\n",
       "      <th></th>\n",
       "      <th>CHEMBARAMBAKKAM_rainfall</th>\n",
       "      <th>CHOLAVARAM_rainfall</th>\n",
       "      <th>POONDI_rainfall</th>\n",
       "      <th>REDHILLS_rainfall</th>\n",
       "      <th>CHEMBARAMBAKKAM_rainfall</th>\n",
       "      <th>CHOLAVARAM_rainfall</th>\n",
       "      <th>POONDI_rainfall</th>\n",
       "      <th>REDHILLS_rainfall</th>\n",
       "    </tr>\n",
       "    <tr>\n",
       "      <th>Year</th>\n",
       "      <th></th>\n",
       "      <th></th>\n",
       "      <th></th>\n",
       "      <th></th>\n",
       "      <th></th>\n",
       "      <th></th>\n",
       "      <th></th>\n",
       "      <th></th>\n",
       "    </tr>\n",
       "  </thead>\n",
       "  <tbody>\n",
       "    <tr>\n",
       "      <th>2004</th>\n",
       "      <td>952.00</td>\n",
       "      <td>1230.0</td>\n",
       "      <td>1099.00</td>\n",
       "      <td>1158.4</td>\n",
       "      <td>2.601093</td>\n",
       "      <td>3.360656</td>\n",
       "      <td>3.002732</td>\n",
       "      <td>3.165027</td>\n",
       "    </tr>\n",
       "    <tr>\n",
       "      <th>2005</th>\n",
       "      <td>2428.00</td>\n",
       "      <td>2253.0</td>\n",
       "      <td>2031.00</td>\n",
       "      <td>2395.5</td>\n",
       "      <td>6.652055</td>\n",
       "      <td>6.172603</td>\n",
       "      <td>5.564384</td>\n",
       "      <td>6.563014</td>\n",
       "    </tr>\n",
       "    <tr>\n",
       "      <th>2006</th>\n",
       "      <td>1488.00</td>\n",
       "      <td>1330.0</td>\n",
       "      <td>1035.00</td>\n",
       "      <td>1328.0</td>\n",
       "      <td>4.076712</td>\n",
       "      <td>3.643836</td>\n",
       "      <td>2.835616</td>\n",
       "      <td>3.638356</td>\n",
       "    </tr>\n",
       "    <tr>\n",
       "      <th>2007</th>\n",
       "      <td>1353.00</td>\n",
       "      <td>1400.0</td>\n",
       "      <td>1703.00</td>\n",
       "      <td>1531.4</td>\n",
       "      <td>3.706849</td>\n",
       "      <td>3.835616</td>\n",
       "      <td>4.665753</td>\n",
       "      <td>4.195616</td>\n",
       "    </tr>\n",
       "    <tr>\n",
       "      <th>2008</th>\n",
       "      <td>1578.00</td>\n",
       "      <td>1685.0</td>\n",
       "      <td>1524.00</td>\n",
       "      <td>1755.0</td>\n",
       "      <td>4.311475</td>\n",
       "      <td>4.603825</td>\n",
       "      <td>4.163934</td>\n",
       "      <td>4.795082</td>\n",
       "    </tr>\n",
       "    <tr>\n",
       "      <th>2009</th>\n",
       "      <td>1542.00</td>\n",
       "      <td>1089.0</td>\n",
       "      <td>982.85</td>\n",
       "      <td>1281.0</td>\n",
       "      <td>4.224658</td>\n",
       "      <td>2.983562</td>\n",
       "      <td>2.692740</td>\n",
       "      <td>3.509589</td>\n",
       "    </tr>\n",
       "    <tr>\n",
       "      <th>2010</th>\n",
       "      <td>1449.00</td>\n",
       "      <td>1914.0</td>\n",
       "      <td>1120.50</td>\n",
       "      <td>1649.6</td>\n",
       "      <td>3.969863</td>\n",
       "      <td>5.243836</td>\n",
       "      <td>3.069863</td>\n",
       "      <td>4.519452</td>\n",
       "    </tr>\n",
       "    <tr>\n",
       "      <th>2011</th>\n",
       "      <td>2019.00</td>\n",
       "      <td>1141.2</td>\n",
       "      <td>1391.20</td>\n",
       "      <td>1515.4</td>\n",
       "      <td>5.531507</td>\n",
       "      <td>3.126575</td>\n",
       "      <td>3.811507</td>\n",
       "      <td>4.151781</td>\n",
       "    </tr>\n",
       "    <tr>\n",
       "      <th>2012</th>\n",
       "      <td>824.30</td>\n",
       "      <td>909.0</td>\n",
       "      <td>1100.60</td>\n",
       "      <td>932.7</td>\n",
       "      <td>2.252186</td>\n",
       "      <td>2.483607</td>\n",
       "      <td>3.007104</td>\n",
       "      <td>2.548361</td>\n",
       "    </tr>\n",
       "    <tr>\n",
       "      <th>2013</th>\n",
       "      <td>1262.55</td>\n",
       "      <td>950.0</td>\n",
       "      <td>1119.00</td>\n",
       "      <td>1033.4</td>\n",
       "      <td>3.459041</td>\n",
       "      <td>2.602740</td>\n",
       "      <td>3.065753</td>\n",
       "      <td>2.831233</td>\n",
       "    </tr>\n",
       "    <tr>\n",
       "      <th>2014</th>\n",
       "      <td>1233.00</td>\n",
       "      <td>937.0</td>\n",
       "      <td>1118.60</td>\n",
       "      <td>1029.4</td>\n",
       "      <td>3.378082</td>\n",
       "      <td>2.567123</td>\n",
       "      <td>3.064658</td>\n",
       "      <td>2.820274</td>\n",
       "    </tr>\n",
       "    <tr>\n",
       "      <th>2015</th>\n",
       "      <td>2463.00</td>\n",
       "      <td>2150.0</td>\n",
       "      <td>2039.10</td>\n",
       "      <td>2276.6</td>\n",
       "      <td>6.747945</td>\n",
       "      <td>5.890411</td>\n",
       "      <td>5.586575</td>\n",
       "      <td>6.237260</td>\n",
       "    </tr>\n",
       "    <tr>\n",
       "      <th>2016</th>\n",
       "      <td>1210.00</td>\n",
       "      <td>905.0</td>\n",
       "      <td>857.60</td>\n",
       "      <td>873.2</td>\n",
       "      <td>3.306011</td>\n",
       "      <td>2.472678</td>\n",
       "      <td>2.343169</td>\n",
       "      <td>2.385792</td>\n",
       "    </tr>\n",
       "    <tr>\n",
       "      <th>2017</th>\n",
       "      <td>1618.20</td>\n",
       "      <td>1440.0</td>\n",
       "      <td>1134.80</td>\n",
       "      <td>1621.4</td>\n",
       "      <td>4.433425</td>\n",
       "      <td>3.945205</td>\n",
       "      <td>3.109041</td>\n",
       "      <td>4.442192</td>\n",
       "    </tr>\n",
       "    <tr>\n",
       "      <th>2018</th>\n",
       "      <td>738.00</td>\n",
       "      <td>1090.0</td>\n",
       "      <td>706.00</td>\n",
       "      <td>833.0</td>\n",
       "      <td>2.021918</td>\n",
       "      <td>2.986301</td>\n",
       "      <td>1.934247</td>\n",
       "      <td>2.282192</td>\n",
       "    </tr>\n",
       "    <tr>\n",
       "      <th>2019</th>\n",
       "      <td>0.00</td>\n",
       "      <td>3.0</td>\n",
       "      <td>37.00</td>\n",
       "      <td>1.0</td>\n",
       "      <td>0.000000</td>\n",
       "      <td>0.017857</td>\n",
       "      <td>0.220238</td>\n",
       "      <td>0.005952</td>\n",
       "    </tr>\n",
       "  </tbody>\n",
       "</table>\n",
       "</div>"
      ],
      "text/plain": [
       "                          sum                                      \\\n",
       "     CHEMBARAMBAKKAM_rainfall CHOLAVARAM_rainfall POONDI_rainfall   \n",
       "Year                                                                \n",
       "2004                   952.00              1230.0         1099.00   \n",
       "2005                  2428.00              2253.0         2031.00   \n",
       "2006                  1488.00              1330.0         1035.00   \n",
       "2007                  1353.00              1400.0         1703.00   \n",
       "2008                  1578.00              1685.0         1524.00   \n",
       "2009                  1542.00              1089.0          982.85   \n",
       "2010                  1449.00              1914.0         1120.50   \n",
       "2011                  2019.00              1141.2         1391.20   \n",
       "2012                   824.30               909.0         1100.60   \n",
       "2013                  1262.55               950.0         1119.00   \n",
       "2014                  1233.00               937.0         1118.60   \n",
       "2015                  2463.00              2150.0         2039.10   \n",
       "2016                  1210.00               905.0          857.60   \n",
       "2017                  1618.20              1440.0         1134.80   \n",
       "2018                   738.00              1090.0          706.00   \n",
       "2019                     0.00                 3.0           37.00   \n",
       "\n",
       "                                           mean                      \\\n",
       "     REDHILLS_rainfall CHEMBARAMBAKKAM_rainfall CHOLAVARAM_rainfall   \n",
       "Year                                                                  \n",
       "2004            1158.4                 2.601093            3.360656   \n",
       "2005            2395.5                 6.652055            6.172603   \n",
       "2006            1328.0                 4.076712            3.643836   \n",
       "2007            1531.4                 3.706849            3.835616   \n",
       "2008            1755.0                 4.311475            4.603825   \n",
       "2009            1281.0                 4.224658            2.983562   \n",
       "2010            1649.6                 3.969863            5.243836   \n",
       "2011            1515.4                 5.531507            3.126575   \n",
       "2012             932.7                 2.252186            2.483607   \n",
       "2013            1033.4                 3.459041            2.602740   \n",
       "2014            1029.4                 3.378082            2.567123   \n",
       "2015            2276.6                 6.747945            5.890411   \n",
       "2016             873.2                 3.306011            2.472678   \n",
       "2017            1621.4                 4.433425            3.945205   \n",
       "2018             833.0                 2.021918            2.986301   \n",
       "2019               1.0                 0.000000            0.017857   \n",
       "\n",
       "                                        \n",
       "     POONDI_rainfall REDHILLS_rainfall  \n",
       "Year                                    \n",
       "2004        3.002732          3.165027  \n",
       "2005        5.564384          6.563014  \n",
       "2006        2.835616          3.638356  \n",
       "2007        4.665753          4.195616  \n",
       "2008        4.163934          4.795082  \n",
       "2009        2.692740          3.509589  \n",
       "2010        3.069863          4.519452  \n",
       "2011        3.811507          4.151781  \n",
       "2012        3.007104          2.548361  \n",
       "2013        3.065753          2.831233  \n",
       "2014        3.064658          2.820274  \n",
       "2015        5.586575          6.237260  \n",
       "2016        2.343169          2.385792  \n",
       "2017        3.109041          4.442192  \n",
       "2018        1.934247          2.282192  \n",
       "2019        0.220238          0.005952  "
      ]
     },
     "execution_count": 66,
     "metadata": {},
     "output_type": "execute_result"
    }
   ],
   "source": [
    "table = pd.pivot_table(df_final, index = ['Year'], values = [\"POONDI_rainfall\", \"CHOLAVARAM_rainfall\", 'CHEMBARAMBAKKAM_rainfall', \"REDHILLS_rainfall\"], aggfunc=[np.sum, np.mean])\n",
    "table"
   ]
  },
  {
   "cell_type": "code",
   "execution_count": 68,
   "metadata": {},
   "outputs": [],
   "source": [
    "year = df_final.groupby('Year')"
   ]
  },
  {
   "cell_type": "code",
   "execution_count": 73,
   "metadata": {},
   "outputs": [
    {
     "data": {
      "text/plain": [
       "Year\n",
       "2004     91.0\n",
       "2005    166.0\n",
       "2006     76.0\n",
       "2007    300.0\n",
       "2008    162.0\n",
       "2009    145.0\n",
       "2010     88.0\n",
       "2011    138.0\n",
       "2012    110.6\n",
       "2013     93.0\n",
       "2014     96.0\n",
       "2015    190.0\n",
       "2016     86.5\n",
       "2017    135.0\n",
       "2018     74.0\n",
       "2019     27.0\n",
       "Name: POONDI_rainfall, dtype: float64"
      ]
     },
     "execution_count": 73,
     "metadata": {},
     "output_type": "execute_result"
    }
   ],
   "source": [
    "year['POONDI_rainfall'].max()"
   ]
  },
  {
   "cell_type": "code",
   "execution_count": null,
   "metadata": {},
   "outputs": [],
   "source": []
  },
  {
   "cell_type": "code",
   "execution_count": null,
   "metadata": {},
   "outputs": [],
   "source": []
  },
  {
   "cell_type": "code",
   "execution_count": null,
   "metadata": {},
   "outputs": [],
   "source": []
  },
  {
   "cell_type": "code",
   "execution_count": null,
   "metadata": {},
   "outputs": [],
   "source": []
  },
  {
   "cell_type": "markdown",
   "metadata": {},
   "source": [
    "### We are checking below for the year in which the rainfall exceeded the level amount"
   ]
  },
  {
   "cell_type": "code",
   "execution_count": null,
   "metadata": {
    "scrolled": true
   },
   "outputs": [],
   "source": [
    "df_final[df_final['Poondi_level_remaining'] < 0]['Year'].value_counts() "
   ]
  },
  {
   "cell_type": "code",
   "execution_count": null,
   "metadata": {},
   "outputs": [],
   "source": [
    "df_final[df_final['Cholavaram_level_remaining'] < 0]['Year'].value_counts() "
   ]
  },
  {
   "cell_type": "code",
   "execution_count": null,
   "metadata": {},
   "outputs": [],
   "source": [
    "df_final[df_final['Redhills_level_remaining'] < 0]['Year'].value_counts() "
   ]
  },
  {
   "cell_type": "code",
   "execution_count": null,
   "metadata": {},
   "outputs": [],
   "source": [
    "df_final[df_final['Chembarambakkam_level_remaining'] < 0]['Year'].value_counts() "
   ]
  },
  {
   "cell_type": "markdown",
   "metadata": {},
   "source": [
    "Below data tells about the area and year where rainfall exceeded level limits.\n",
    "* 2004 and 2017 : heavy rainfall in all regions\n",
    "* 2005 : heavy rainfall in Cholavaram, Chembarambakkam and Poondi\n",
    "* 2015 : heavy rainfall in Redhills\n",
    "* 2018 : heavy rainfall in Poondi"
   ]
  },
  {
   "cell_type": "code",
   "execution_count": null,
   "metadata": {},
   "outputs": [],
   "source": [
    "df_final[(df_final['Poondi_level_remaining'] < 0) & (df_final['Year'] == 2004)]['Month'].value_counts(sort = False)"
   ]
  },
  {
   "cell_type": "markdown",
   "metadata": {},
   "source": [
    "this information tells about exceeded rainfall for year 2004 with respect to month sequence"
   ]
  },
  {
   "cell_type": "code",
   "execution_count": null,
   "metadata": {},
   "outputs": [],
   "source": [
    "df_final[df_final['Poondi_level_remaining'] < 0]['Month'].value_counts(sort = False)"
   ]
  },
  {
   "cell_type": "markdown",
   "metadata": {},
   "source": [
    "this information tells about exceeded rainfall for all years with respect to month sequence"
   ]
  },
  {
   "cell_type": "markdown",
   "metadata": {},
   "source": [
    "For Poondi region, maximum rainfall occured for 8 days in August, 16 days in September, 6 days in October"
   ]
  },
  {
   "cell_type": "code",
   "execution_count": null,
   "metadata": {},
   "outputs": [],
   "source": [
    "df_final[df_final['Chembarambakkam_level_remaining'] < 0]['Month'].value_counts(sort = False)"
   ]
  },
  {
   "cell_type": "markdown",
   "metadata": {},
   "source": [
    "For Chembarambakkam region, maximum rainfall occured for 9 days in May, July and August, 25 days in September, 17 days in October"
   ]
  },
  {
   "cell_type": "code",
   "execution_count": null,
   "metadata": {},
   "outputs": [],
   "source": [
    "df_final[df_final['Cholavaram_level_remaining'] < 0]['Month'].value_counts(sort = False)"
   ]
  },
  {
   "cell_type": "markdown",
   "metadata": {},
   "source": [
    "For Cholavaram region, maximum rainfall occured for 7 days in July and August, 25 days in September, 6 days in June, 17 days in October"
   ]
  },
  {
   "cell_type": "code",
   "execution_count": null,
   "metadata": {},
   "outputs": [],
   "source": [
    "df_final[df_final['Redhills_level_remaining'] < 0]['Month'].value_counts(sort = False)"
   ]
  },
  {
   "cell_type": "markdown",
   "metadata": {},
   "source": [
    "For Redhills region, maximum rainfall occured for 11 days in August, 16 days in September, 20 days in October"
   ]
  },
  {
   "cell_type": "code",
   "execution_count": null,
   "metadata": {},
   "outputs": [],
   "source": [
    "print(\"\\ndf_final['Year'].nunique() : \\n\", df_final['Year'].nunique())\n",
    "print(\"\\ndf_final['Year'].unique() : \\n\", df_final['Year'].unique())"
   ]
  },
  {
   "cell_type": "code",
   "execution_count": null,
   "metadata": {},
   "outputs": [],
   "source": [
    "df_final.shape"
   ]
  },
  {
   "cell_type": "code",
   "execution_count": null,
   "metadata": {},
   "outputs": [],
   "source": [
    "df_final['Precaution_taken'] = df_final['Date']"
   ]
  },
  {
   "cell_type": "code",
   "execution_count": null,
   "metadata": {},
   "outputs": [],
   "source": [
    "def impute_precaution(cols) :\n",
    "    precaution = cols[0]\n",
    "    poondi = cols[1]\n",
    "    cholavaram = cols[2]\n",
    "    redhill = cols[3]\n",
    "    chembarambakkam = cols[4]\n",
    "    \n",
    "    if poondi < 0 :\n",
    "        return \"yes\"\n",
    "    elif cholavaram < 0 :\n",
    "        return \"yes\"\n",
    "    elif redhill < 0 :\n",
    "        return \"yes\"\n",
    "    elif chembarambakkam < 0 :\n",
    "        return \"yes\"\n",
    "    else :\n",
    "        return \"no\"\n"
   ]
  },
  {
   "cell_type": "code",
   "execution_count": null,
   "metadata": {},
   "outputs": [],
   "source": [
    "df_final['Precaution_taken'] = df_final[['Precaution_taken', \"Poondi_level_remaining\", \"Cholavaram_level_remaining\", \"Redhills_level_remaining\" , \"Chembarambakkam_level_remaining\"]].apply(impute_precaution, axis = 1)"
   ]
  },
  {
   "cell_type": "code",
   "execution_count": null,
   "metadata": {},
   "outputs": [],
   "source": [
    "df_final.head()"
   ]
  },
  {
   "cell_type": "code",
   "execution_count": null,
   "metadata": {},
   "outputs": [],
   "source": [
    "df_final['Precaution_taken'].value_counts()"
   ]
  },
  {
   "cell_type": "code",
   "execution_count": null,
   "metadata": {},
   "outputs": [],
   "source": [
    "df_final.shape"
   ]
  },
  {
   "cell_type": "markdown",
   "metadata": {},
   "source": [
    "#### Making of dataset for machine modelling"
   ]
  },
  {
   "cell_type": "code",
   "execution_count": null,
   "metadata": {},
   "outputs": [],
   "source": [
    "precaution = pd.get_dummies(df_final['Precaution_taken'],drop_first=True)\n",
    "precaution.head()"
   ]
  },
  {
   "cell_type": "code",
   "execution_count": null,
   "metadata": {},
   "outputs": [],
   "source": [
    "df_final.drop(\"Precaution_taken\", inplace=True, axis = 1)"
   ]
  },
  {
   "cell_type": "code",
   "execution_count": null,
   "metadata": {},
   "outputs": [],
   "source": [
    "df_final = pd.concat([df_final, precaution], axis = 1)"
   ]
  },
  {
   "cell_type": "code",
   "execution_count": null,
   "metadata": {},
   "outputs": [],
   "source": [
    "df_final.columns"
   ]
  },
  {
   "cell_type": "code",
   "execution_count": null,
   "metadata": {},
   "outputs": [],
   "source": [
    "df_final.shape"
   ]
  },
  {
   "cell_type": "code",
   "execution_count": null,
   "metadata": {},
   "outputs": [],
   "source": []
  },
  {
   "cell_type": "code",
   "execution_count": null,
   "metadata": {},
   "outputs": [],
   "source": []
  },
  {
   "cell_type": "markdown",
   "metadata": {},
   "source": [
    "### checking of machine models to compare the result"
   ]
  },
  {
   "cell_type": "code",
   "execution_count": null,
   "metadata": {},
   "outputs": [],
   "source": [
    "from sklearn.tree import DecisionTreeClassifier\n",
    "from sklearn.neighbors import KNeighborsClassifier\n",
    "from sklearn.naive_bayes import GaussianNB\n",
    "from sklearn.svm import SVC\n",
    "from sklearn.linear_model import LogisticRegression"
   ]
  },
  {
   "cell_type": "code",
   "execution_count": null,
   "metadata": {},
   "outputs": [],
   "source": [
    "from sklearn.metrics import accuracy_score\n",
    "from sklearn.model_selection import train_test_split\n",
    "from sklearn.model_selection import cross_val_score\n",
    "from sklearn.model_selection import KFold\n",
    "from sklearn.model_selection import GridSearchCV\n",
    "import time"
   ]
  },
  {
   "cell_type": "code",
   "execution_count": null,
   "metadata": {},
   "outputs": [],
   "source": [
    "x = df_final[['POONDI_level', 'CHOLAVARAM_level', 'REDHILLS_level',\n",
    "       'CHEMBARAMBAKKAM_level', 'Month']]\n",
    "\n",
    "y = df_final['yes']"
   ]
  },
  {
   "cell_type": "code",
   "execution_count": null,
   "metadata": {},
   "outputs": [],
   "source": [
    "xtrain, xtest, ytrain, ytest = train_test_split(x, y, test_size = 0.2, random_state = 111)"
   ]
  },
  {
   "cell_type": "code",
   "execution_count": null,
   "metadata": {},
   "outputs": [],
   "source": [
    "models_list = []\n",
    "models_list.append(('CART', DecisionTreeClassifier()))\n",
    "models_list.append(('SVM', SVC())) # It is taking 6.5 minutes here, so avoid for now\n",
    "models_list.append(('NB', GaussianNB()))\n",
    "models_list.append(('KNN', KNeighborsClassifier()))\n",
    "models_list.append(('Logistic', LogisticRegression()))"
   ]
  },
  {
   "cell_type": "code",
   "execution_count": null,
   "metadata": {},
   "outputs": [],
   "source": [
    "import warnings\n",
    "\n",
    "num_folds = 10\n",
    "results = []\n",
    "names = []\n",
    "with warnings.catch_warnings():\n",
    "    warnings.simplefilter(\"ignore\")\n",
    "    kfold = KFold(n_splits=num_folds, random_state=123)\n",
    "    for name, model in models_list:\n",
    "        kfold = KFold(n_splits=num_folds, random_state=123)\n",
    "        start = time.time()\n",
    "        cv_results = cross_val_score(model, xtrain, ytrain, cv=kfold, scoring='accuracy')\n",
    "        end = time.time()\n",
    "        results.append(cv_results)\n",
    "        names.append(name)\n",
    "        print( \"%s: %f (%f) (run time: %f)\" % (name, cv_results.mean(), cv_results.std(), end-start))"
   ]
  },
  {
   "cell_type": "code",
   "execution_count": null,
   "metadata": {},
   "outputs": [],
   "source": [
    "fig = plt.figure()\n",
    "fig.suptitle('Performance Comparison')\n",
    "ax = fig.add_subplot(111)\n",
    "plt.boxplot(results)\n",
    "ax.set_xticklabels(names)\n",
    "plt.show()"
   ]
  },
  {
   "cell_type": "markdown",
   "metadata": {},
   "source": [
    "KNN(accuracy = 0.98) is giving the best result for our dataset(taking only rainfall_level csv file) ,ie, to predict weather to take precation for exceeded rainfall"
   ]
  },
  {
   "cell_type": "code",
   "execution_count": null,
   "metadata": {},
   "outputs": [],
   "source": []
  },
  {
   "cell_type": "markdown",
   "metadata": {},
   "source": [
    "#### checking with increased columns"
   ]
  },
  {
   "cell_type": "code",
   "execution_count": null,
   "metadata": {},
   "outputs": [],
   "source": [
    "x = df_final[['POONDI_level', 'CHOLAVARAM_level', 'REDHILLS_level',\n",
    "       'CHEMBARAMBAKKAM_level','POONDI_rainfall', 'CHOLAVARAM_rainfall',\n",
    "       'REDHILLS_rainfall', 'CHEMBARAMBAKKAM_rainfall', 'Month']]\n",
    "\n",
    "y = df_final['yes']"
   ]
  },
  {
   "cell_type": "code",
   "execution_count": null,
   "metadata": {},
   "outputs": [],
   "source": [
    "xtrain, xtest, ytrain, ytest = train_test_split(x, y, test_size = 0.2, random_state = 111)"
   ]
  },
  {
   "cell_type": "code",
   "execution_count": null,
   "metadata": {},
   "outputs": [],
   "source": [
    "from sklearn.tree import DecisionTreeClassifier\n",
    "from sklearn.neighbors import KNeighborsClassifier\n",
    "from sklearn.naive_bayes import GaussianNB\n",
    "from sklearn.svm import SVC\n",
    "from sklearn.linear_model import LogisticRegression"
   ]
  },
  {
   "cell_type": "code",
   "execution_count": null,
   "metadata": {},
   "outputs": [],
   "source": [
    "from sklearn.metrics import accuracy_score\n",
    "from sklearn.model_selection import train_test_split\n",
    "from sklearn.model_selection import cross_val_score\n",
    "from sklearn.model_selection import KFold\n",
    "from sklearn.model_selection import GridSearchCV\n",
    "import time"
   ]
  },
  {
   "cell_type": "code",
   "execution_count": null,
   "metadata": {},
   "outputs": [],
   "source": [
    "models_list = []\n",
    "models_list.append(('CART', DecisionTreeClassifier()))\n",
    "models_list.append(('SVM', SVC())) # It is taking 6.5 minutes here, so avoid for now\n",
    "models_list.append(('NB', GaussianNB()))\n",
    "models_list.append(('KNN', KNeighborsClassifier()))\n",
    "models_list.append(('Logistic', LogisticRegression()))"
   ]
  },
  {
   "cell_type": "code",
   "execution_count": null,
   "metadata": {},
   "outputs": [],
   "source": [
    "import warnings\n",
    "\n",
    "num_folds = 10\n",
    "results = []\n",
    "names = []\n",
    "with warnings.catch_warnings():\n",
    "    warnings.simplefilter(\"ignore\")\n",
    "    kfold = KFold(n_splits=num_folds, random_state=123)\n",
    "    for name, model in models_list:\n",
    "        kfold = KFold(n_splits=num_folds, random_state=123)\n",
    "        start = time.time()\n",
    "        cv_results = cross_val_score(model, xtrain, ytrain, cv=kfold, scoring='accuracy')\n",
    "        end = time.time()\n",
    "        results.append(cv_results)\n",
    "        names.append(name)\n",
    "        print( \"%s: %f (%f) (run time: %f)\" % (name, cv_results.mean(), cv_results.std(), end-start))"
   ]
  },
  {
   "cell_type": "code",
   "execution_count": null,
   "metadata": {},
   "outputs": [],
   "source": [
    "fig = plt.figure()\n",
    "fig.suptitle('Performance Comparison')\n",
    "ax = fig.add_subplot(111)\n",
    "plt.boxplot(results)\n",
    "ax.set_xticklabels(names)\n",
    "plt.show()"
   ]
  },
  {
   "cell_type": "markdown",
   "metadata": {},
   "source": [
    "Decision Tree(accuracy = 0.99) is giving the best result for our dataset(taking only reservoir_level and reservoir_rainfall csv file) ,ie, to predict weather to take precation for exceeded rainfall"
   ]
  },
  {
   "cell_type": "code",
   "execution_count": null,
   "metadata": {},
   "outputs": [],
   "source": []
  },
  {
   "cell_type": "markdown",
   "metadata": {},
   "source": [
    "### Tuning of Decision Tree"
   ]
  },
  {
   "cell_type": "code",
   "execution_count": null,
   "metadata": {},
   "outputs": [],
   "source": [
    "\n",
    "start = time.time()\n",
    "#create a dictionary of all values we want to test\n",
    "param_grid = { 'criterion':[\"gini\", 'entropy'],'max_depth': np.arange(3,15), 'max_features': np.arange(2,5)}\n",
    "\n",
    "model=DecisionTreeClassifier()\n",
    "#use gridsearch to test all values\n",
    "grid = GridSearchCV(model, param_grid, cv = 10)\n",
    "#fit model to data\n",
    "grid.fit(xtrain, ytrain)\n",
    "end = time.time()\n",
    "print(\"time taken : \", (end - start))\n",
    "\n",
    "print(\"\\ngrid.best_params_ : \\n\", grid.best_params_)\n",
    "print(\"\\ngrid.best_estimator_ : \\n\", grid.best_estimator_)\n",
    "print(\"\\ngrid.best_index_ : \\n\", grid.best_index_)\n",
    "print(\"\\ngrid.best_score_ : \\n\", grid.best_score_)\n",
    "\n"
   ]
  },
  {
   "cell_type": "code",
   "execution_count": null,
   "metadata": {},
   "outputs": [],
   "source": [
    "predict = grid.predict(xtest)"
   ]
  },
  {
   "cell_type": "code",
   "execution_count": null,
   "metadata": {},
   "outputs": [],
   "source": [
    "from sklearn import metrics"
   ]
  },
  {
   "cell_type": "code",
   "execution_count": null,
   "metadata": {},
   "outputs": [],
   "source": [
    "print(\"\\n metrics.confusion_matrix : \\n\", metrics.confusion_matrix(ytest, predict))\n",
    "print(\"\\n metrics.classification_report : \\n\", metrics.classification_report(ytest, predict))\n",
    "print(\"\\n metrics.accuracy_score : \\n\", metrics.accuracy_score(ytest, predict))"
   ]
  },
  {
   "cell_type": "code",
   "execution_count": null,
   "metadata": {},
   "outputs": [],
   "source": []
  },
  {
   "cell_type": "code",
   "execution_count": null,
   "metadata": {},
   "outputs": [],
   "source": [
    "from sklearn.metrics import roc_auc_score, roc_curve"
   ]
  },
  {
   "cell_type": "code",
   "execution_count": null,
   "metadata": {},
   "outputs": [],
   "source": [
    "# predict probabilities\n",
    "probs = grid.predict_proba(xtest)\n",
    "# keep probabilities for the positive outcome only\n",
    "probs = probs[:, 1]"
   ]
  },
  {
   "cell_type": "code",
   "execution_count": null,
   "metadata": {},
   "outputs": [],
   "source": [
    "# calculate AUC\n",
    "auc = roc_auc_score(ytest, probs)\n",
    "auc"
   ]
  },
  {
   "cell_type": "code",
   "execution_count": null,
   "metadata": {},
   "outputs": [],
   "source": [
    "# calculate roc curve\n",
    "fpr, tpr, thresholds = roc_curve(ytest, probs)"
   ]
  },
  {
   "cell_type": "code",
   "execution_count": null,
   "metadata": {},
   "outputs": [],
   "source": [
    "plt.plot([0, 1], [0, 1], linestyle='--')   #plt.plot(x, y)\n",
    "# plot the roc curve for the model\n",
    "plt.plot(fpr, tpr, marker='.')\n",
    "# show the plot\n",
    "plt.show()"
   ]
  },
  {
   "cell_type": "markdown",
   "metadata": {},
   "source": [
    "Here we have trained our model to predict weather we have to take precaution of reservoir level,\n",
    "handling depending on the month and it's level, rainfall parameters"
   ]
  },
  {
   "cell_type": "markdown",
   "metadata": {},
   "source": [
    "We used Decision Tree Classifier to get the results with tuned parameters that gave us the accuracy of 0.990265, AUC = 0.814"
   ]
  },
  {
   "cell_type": "code",
   "execution_count": null,
   "metadata": {},
   "outputs": [],
   "source": []
  },
  {
   "cell_type": "code",
   "execution_count": null,
   "metadata": {},
   "outputs": [],
   "source": []
  },
  {
   "cell_type": "code",
   "execution_count": null,
   "metadata": {},
   "outputs": [],
   "source": []
  },
  {
   "cell_type": "code",
   "execution_count": null,
   "metadata": {},
   "outputs": [],
   "source": []
  },
  {
   "cell_type": "code",
   "execution_count": null,
   "metadata": {},
   "outputs": [],
   "source": []
  },
  {
   "cell_type": "code",
   "execution_count": null,
   "metadata": {},
   "outputs": [],
   "source": []
  }
 ],
 "metadata": {
  "kernelspec": {
   "display_name": "Python 3",
   "language": "python",
   "name": "python3"
  },
  "language_info": {
   "codemirror_mode": {
    "name": "ipython",
    "version": 3
   },
   "file_extension": ".py",
   "mimetype": "text/x-python",
   "name": "python",
   "nbconvert_exporter": "python",
   "pygments_lexer": "ipython3",
   "version": "3.7.3"
  }
 },
 "nbformat": 4,
 "nbformat_minor": 2
}
